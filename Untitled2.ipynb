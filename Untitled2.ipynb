{
 "cells": [
  {
   "cell_type": "code",
   "execution_count": 1,
   "metadata": {},
   "outputs": [],
   "source": [
    "import pandas as pd\n",
    "from sklearn.linear_model import LogisticRegression\n",
    "from sklearn.model_selection import train_test_split\n",
    "from sklearn.preprocessing import StandardScaler\n",
    "from sklearn.metrics import confusion_matrix\n",
    "from sklearn import metrics\n",
    "from sklearn.metrics import auc\n",
    "from sklearn.model_selection import cross_val_score\n",
    "from statsmodels.stats.outliers_influence import variance_inflation_factor"
   ]
  },
  {
   "cell_type": "code",
   "execution_count": 2,
   "metadata": {},
   "outputs": [],
   "source": [
    "df = pd.read_csv('accepts.csv',encoding='utf-8')"
   ]
  },
  {
   "cell_type": "code",
   "execution_count": 3,
   "metadata": {},
   "outputs": [
    {
     "data": {
      "text/plain": [
       "(5845, 25)"
      ]
     },
     "execution_count": 3,
     "metadata": {},
     "output_type": "execute_result"
    }
   ],
   "source": [
    "df.shape"
   ]
  },
  {
   "cell_type": "markdown",
   "metadata": {},
   "source": [
    "### Answer (i)"
   ]
  },
  {
   "cell_type": "code",
   "execution_count": 4,
   "metadata": {},
   "outputs": [],
   "source": [
    "df = df[['fico_score','bankruptcy_ind','tot_derog','age_oldest_tr','ltv','bad_ind']]"
   ]
  },
  {
   "cell_type": "code",
   "execution_count": 5,
   "metadata": {},
   "outputs": [
    {
     "data": {
      "text/plain": [
       "0    4648\n",
       "1    1197\n",
       "Name: bad_ind, dtype: int64"
      ]
     },
     "execution_count": 5,
     "metadata": {},
     "output_type": "execute_result"
    }
   ],
   "source": [
    "# Imbalanced Data\n",
    "df['bad_ind'].value_counts()"
   ]
  },
  {
   "cell_type": "code",
   "execution_count": 6,
   "metadata": {},
   "outputs": [
    {
     "data": {
      "text/plain": [
       "fico_score        314\n",
       "bankruptcy_ind    217\n",
       "tot_derog         213\n",
       "age_oldest_tr     216\n",
       "ltv                 1\n",
       "bad_ind             0\n",
       "dtype: int64"
      ]
     },
     "execution_count": 6,
     "metadata": {},
     "output_type": "execute_result"
    }
   ],
   "source": [
    "df.isnull().sum()"
   ]
  },
  {
   "cell_type": "code",
   "execution_count": 7,
   "metadata": {},
   "outputs": [
    {
     "data": {
      "text/html": [
       "<div>\n",
       "<style scoped>\n",
       "    .dataframe tbody tr th:only-of-type {\n",
       "        vertical-align: middle;\n",
       "    }\n",
       "\n",
       "    .dataframe tbody tr th {\n",
       "        vertical-align: top;\n",
       "    }\n",
       "\n",
       "    .dataframe thead th {\n",
       "        text-align: right;\n",
       "    }\n",
       "</style>\n",
       "<table border=\"1\" class=\"dataframe\">\n",
       "  <thead>\n",
       "    <tr style=\"text-align: right;\">\n",
       "      <th></th>\n",
       "      <th>fico_score</th>\n",
       "      <th>bankruptcy_ind</th>\n",
       "      <th>tot_derog</th>\n",
       "      <th>age_oldest_tr</th>\n",
       "      <th>ltv</th>\n",
       "      <th>bad_ind</th>\n",
       "    </tr>\n",
       "  </thead>\n",
       "  <tbody>\n",
       "    <tr>\n",
       "      <th>0</th>\n",
       "      <td>650.0</td>\n",
       "      <td>N</td>\n",
       "      <td>7.0</td>\n",
       "      <td>64.0</td>\n",
       "      <td>99.0</td>\n",
       "      <td>1</td>\n",
       "    </tr>\n",
       "    <tr>\n",
       "      <th>1</th>\n",
       "      <td>649.0</td>\n",
       "      <td>N</td>\n",
       "      <td>0.0</td>\n",
       "      <td>240.0</td>\n",
       "      <td>99.0</td>\n",
       "      <td>0</td>\n",
       "    </tr>\n",
       "    <tr>\n",
       "      <th>2</th>\n",
       "      <td>613.0</td>\n",
       "      <td>N</td>\n",
       "      <td>7.0</td>\n",
       "      <td>60.0</td>\n",
       "      <td>92.0</td>\n",
       "      <td>1</td>\n",
       "    </tr>\n",
       "    <tr>\n",
       "      <th>3</th>\n",
       "      <td>603.0</td>\n",
       "      <td>N</td>\n",
       "      <td>3.0</td>\n",
       "      <td>35.0</td>\n",
       "      <td>118.0</td>\n",
       "      <td>1</td>\n",
       "    </tr>\n",
       "    <tr>\n",
       "      <th>4</th>\n",
       "      <td>764.0</td>\n",
       "      <td>N</td>\n",
       "      <td>0.0</td>\n",
       "      <td>104.0</td>\n",
       "      <td>122.0</td>\n",
       "      <td>0</td>\n",
       "    </tr>\n",
       "  </tbody>\n",
       "</table>\n",
       "</div>"
      ],
      "text/plain": [
       "   fico_score bankruptcy_ind  tot_derog  age_oldest_tr    ltv  bad_ind\n",
       "0       650.0              N        7.0           64.0   99.0        1\n",
       "1       649.0              N        0.0          240.0   99.0        0\n",
       "2       613.0              N        7.0           60.0   92.0        1\n",
       "3       603.0              N        3.0           35.0  118.0        1\n",
       "4       764.0              N        0.0          104.0  122.0        0"
      ]
     },
     "execution_count": 7,
     "metadata": {},
     "output_type": "execute_result"
    }
   ],
   "source": [
    "df = df.dropna()\n",
    "df.head()"
   ]
  },
  {
   "cell_type": "markdown",
   "metadata": {},
   "source": [
    "### Answer (ii)"
   ]
  },
  {
   "cell_type": "code",
   "execution_count": 8,
   "metadata": {},
   "outputs": [
    {
     "data": {
      "text/plain": [
       "fico_score        float64\n",
       "bankruptcy_ind     object\n",
       "tot_derog         float64\n",
       "age_oldest_tr     float64\n",
       "ltv               float64\n",
       "bad_ind             int64\n",
       "dtype: object"
      ]
     },
     "execution_count": 8,
     "metadata": {},
     "output_type": "execute_result"
    }
   ],
   "source": [
    "df.dtypes"
   ]
  },
  {
   "cell_type": "code",
   "execution_count": 9,
   "metadata": {},
   "outputs": [
    {
     "data": {
      "text/plain": [
       "array(['N', 'Y'], dtype=object)"
      ]
     },
     "execution_count": 9,
     "metadata": {},
     "output_type": "execute_result"
    }
   ],
   "source": [
    "df['bankruptcy_ind'].unique()"
   ]
  },
  {
   "cell_type": "code",
   "execution_count": 10,
   "metadata": {},
   "outputs": [],
   "source": [
    "df['bankruptcy_ind'] = df['bankruptcy_ind'].apply(lambda x : 1 if x == 'Y' else 0)"
   ]
  },
  {
   "cell_type": "code",
   "execution_count": 11,
   "metadata": {},
   "outputs": [
    {
     "data": {
      "text/html": [
       "<div>\n",
       "<style scoped>\n",
       "    .dataframe tbody tr th:only-of-type {\n",
       "        vertical-align: middle;\n",
       "    }\n",
       "\n",
       "    .dataframe tbody tr th {\n",
       "        vertical-align: top;\n",
       "    }\n",
       "\n",
       "    .dataframe thead th {\n",
       "        text-align: right;\n",
       "    }\n",
       "</style>\n",
       "<table border=\"1\" class=\"dataframe\">\n",
       "  <thead>\n",
       "    <tr style=\"text-align: right;\">\n",
       "      <th></th>\n",
       "      <th>fico_score</th>\n",
       "      <th>bankruptcy_ind</th>\n",
       "      <th>tot_derog</th>\n",
       "      <th>age_oldest_tr</th>\n",
       "      <th>ltv</th>\n",
       "      <th>bad_ind</th>\n",
       "    </tr>\n",
       "  </thead>\n",
       "  <tbody>\n",
       "    <tr>\n",
       "      <th>0</th>\n",
       "      <td>650.0</td>\n",
       "      <td>0</td>\n",
       "      <td>7.0</td>\n",
       "      <td>64.0</td>\n",
       "      <td>99.0</td>\n",
       "      <td>1</td>\n",
       "    </tr>\n",
       "    <tr>\n",
       "      <th>1</th>\n",
       "      <td>649.0</td>\n",
       "      <td>0</td>\n",
       "      <td>0.0</td>\n",
       "      <td>240.0</td>\n",
       "      <td>99.0</td>\n",
       "      <td>0</td>\n",
       "    </tr>\n",
       "    <tr>\n",
       "      <th>2</th>\n",
       "      <td>613.0</td>\n",
       "      <td>0</td>\n",
       "      <td>7.0</td>\n",
       "      <td>60.0</td>\n",
       "      <td>92.0</td>\n",
       "      <td>1</td>\n",
       "    </tr>\n",
       "    <tr>\n",
       "      <th>3</th>\n",
       "      <td>603.0</td>\n",
       "      <td>0</td>\n",
       "      <td>3.0</td>\n",
       "      <td>35.0</td>\n",
       "      <td>118.0</td>\n",
       "      <td>1</td>\n",
       "    </tr>\n",
       "    <tr>\n",
       "      <th>4</th>\n",
       "      <td>764.0</td>\n",
       "      <td>0</td>\n",
       "      <td>0.0</td>\n",
       "      <td>104.0</td>\n",
       "      <td>122.0</td>\n",
       "      <td>0</td>\n",
       "    </tr>\n",
       "  </tbody>\n",
       "</table>\n",
       "</div>"
      ],
      "text/plain": [
       "   fico_score  bankruptcy_ind  tot_derog  age_oldest_tr    ltv  bad_ind\n",
       "0       650.0               0        7.0           64.0   99.0        1\n",
       "1       649.0               0        0.0          240.0   99.0        0\n",
       "2       613.0               0        7.0           60.0   92.0        1\n",
       "3       603.0               0        3.0           35.0  118.0        1\n",
       "4       764.0               0        0.0          104.0  122.0        0"
      ]
     },
     "execution_count": 11,
     "metadata": {},
     "output_type": "execute_result"
    }
   ],
   "source": [
    "df.head()"
   ]
  },
  {
   "cell_type": "code",
   "execution_count": 12,
   "metadata": {},
   "outputs": [],
   "source": [
    "x,y = df[df.columns[:-1]].values,df['bad_ind'].values"
   ]
  },
  {
   "cell_type": "code",
   "execution_count": 13,
   "metadata": {},
   "outputs": [],
   "source": [
    "sc_x = StandardScaler()\n",
    "x_std = sc_x.fit_transform(x)"
   ]
  },
  {
   "cell_type": "code",
   "execution_count": 14,
   "metadata": {},
   "outputs": [],
   "source": [
    "x_train,x_test,y_train,y_test = train_test_split(x_std,y,random_state=1)"
   ]
  },
  {
   "cell_type": "markdown",
   "metadata": {},
   "source": [
    "### Answer (iii)"
   ]
  },
  {
   "cell_type": "code",
   "execution_count": 15,
   "metadata": {},
   "outputs": [
    {
     "name": "stdout",
     "output_type": "stream",
     "text": [
      "[[-0.85913747 -0.10882728  0.09715537 -0.25018623  0.45182299]]\n"
     ]
    }
   ],
   "source": [
    "log_reg = LogisticRegression()\n",
    "log_reg.fit(x_train,y_train)\n",
    "print(log_reg.coef_)"
   ]
  },
  {
   "cell_type": "markdown",
   "metadata": {},
   "source": [
    "### Answer (iv)"
   ]
  },
  {
   "cell_type": "code",
   "execution_count": 16,
   "metadata": {},
   "outputs": [
    {
     "name": "stdout",
     "output_type": "stream",
     "text": [
      "   VIF_Factor\n",
      "0   31.112037\n",
      "1    1.266256\n",
      "2    1.611147\n",
      "3    3.876495\n",
      "4   27.512701\n"
     ]
    }
   ],
   "source": [
    "vif = pd.DataFrame()\n",
    "vif['VIF_Factor'] = [variance_inflation_factor(df.values, i) for i in range(df.shape[1]-1)]\n",
    "print(vif)"
   ]
  },
  {
   "cell_type": "code",
   "execution_count": 17,
   "metadata": {},
   "outputs": [],
   "source": [
    "# fico_score / ltv"
   ]
  },
  {
   "cell_type": "markdown",
   "metadata": {},
   "source": [
    "### Answer (v)"
   ]
  },
  {
   "cell_type": "code",
   "execution_count": 18,
   "metadata": {},
   "outputs": [
    {
     "data": {
      "text/html": [
       "<div>\n",
       "<style scoped>\n",
       "    .dataframe tbody tr th:only-of-type {\n",
       "        vertical-align: middle;\n",
       "    }\n",
       "\n",
       "    .dataframe tbody tr th {\n",
       "        vertical-align: top;\n",
       "    }\n",
       "\n",
       "    .dataframe thead th {\n",
       "        text-align: right;\n",
       "    }\n",
       "</style>\n",
       "<table border=\"1\" class=\"dataframe\">\n",
       "  <thead>\n",
       "    <tr style=\"text-align: right;\">\n",
       "      <th></th>\n",
       "      <th>0</th>\n",
       "      <th>1</th>\n",
       "      <th>result</th>\n",
       "    </tr>\n",
       "  </thead>\n",
       "  <tbody>\n",
       "    <tr>\n",
       "      <th>0</th>\n",
       "      <td>0.778444</td>\n",
       "      <td>0.221556</td>\n",
       "      <td>1</td>\n",
       "    </tr>\n",
       "    <tr>\n",
       "      <th>1</th>\n",
       "      <td>0.729439</td>\n",
       "      <td>0.270561</td>\n",
       "      <td>1</td>\n",
       "    </tr>\n",
       "    <tr>\n",
       "      <th>2</th>\n",
       "      <td>0.801810</td>\n",
       "      <td>0.198190</td>\n",
       "      <td>0</td>\n",
       "    </tr>\n",
       "    <tr>\n",
       "      <th>3</th>\n",
       "      <td>0.975869</td>\n",
       "      <td>0.024131</td>\n",
       "      <td>0</td>\n",
       "    </tr>\n",
       "    <tr>\n",
       "      <th>4</th>\n",
       "      <td>0.951507</td>\n",
       "      <td>0.048493</td>\n",
       "      <td>0</td>\n",
       "    </tr>\n",
       "  </tbody>\n",
       "</table>\n",
       "</div>"
      ],
      "text/plain": [
       "          0         1  result\n",
       "0  0.778444  0.221556       1\n",
       "1  0.729439  0.270561       1\n",
       "2  0.801810  0.198190       0\n",
       "3  0.975869  0.024131       0\n",
       "4  0.951507  0.048493       0"
      ]
     },
     "execution_count": 18,
     "metadata": {},
     "output_type": "execute_result"
    }
   ],
   "source": [
    "pred_proba_df = pd.DataFrame(log_reg.predict_proba(x_test),columns=['0','1'])\n",
    "pred_proba_df['result'] = pred_proba_df['1'].apply(lambda x: 1 if x>0.2 else 0)\n",
    "pred_proba_df.head()"
   ]
  },
  {
   "cell_type": "code",
   "execution_count": 19,
   "metadata": {},
   "outputs": [
    {
     "data": {
      "text/plain": [
       "0    799\n",
       "1    569\n",
       "Name: result, dtype: int64"
      ]
     },
     "execution_count": 19,
     "metadata": {},
     "output_type": "execute_result"
    }
   ],
   "source": [
    "pred_proba_df['result'].value_counts()"
   ]
  },
  {
   "cell_type": "markdown",
   "metadata": {},
   "source": [
    "### Answer (vi)"
   ]
  },
  {
   "cell_type": "code",
   "execution_count": 20,
   "metadata": {},
   "outputs": [],
   "source": [
    "conf_metrix = confusion_matrix(y_test,log_reg.predict(x_test).tolist())"
   ]
  },
  {
   "cell_type": "code",
   "execution_count": 21,
   "metadata": {},
   "outputs": [
    {
     "name": "stdout",
     "output_type": "stream",
     "text": [
      "Accuracy:  0.7887426900584795\n",
      "Error Rate:  0.21125730994152048\n",
      "Sensitivity:  0.9738072965388214\n",
      "Specificity:  0.12709030100334448\n"
     ]
    }
   ],
   "source": [
    "tp = conf_metrix[0][0]\n",
    "fp = conf_metrix[1][0]\n",
    "fn = conf_metrix[0][1]\n",
    "tn = conf_metrix[1][1]\n",
    "\n",
    "print('Accuracy: ',(tp+tn)/(tp+tn+fn+fp))\n",
    "print('Error Rate: ',(fp+fn)/(tp+tn+fn+fp))\n",
    "print('Sensitivity: ',tp/(tp+fn))\n",
    "print('Specificity: ',tn/(tn+fp))"
   ]
  },
  {
   "cell_type": "markdown",
   "metadata": {},
   "source": [
    "### Answer (vii)"
   ]
  },
  {
   "cell_type": "code",
   "execution_count": 22,
   "metadata": {},
   "outputs": [],
   "source": [
    "def calculation(thresold:float):\n",
    "    temp_df = pd.DataFrame(log_reg.predict_proba(x_test),columns=['0','1'])\n",
    "    temp_df['result'] = temp_df['1'].apply(lambda x: 1 if x>thresold else 0)\n",
    "    return temp_df['result'].values.tolist()"
   ]
  },
  {
   "cell_type": "code",
   "execution_count": 23,
   "metadata": {},
   "outputs": [],
   "source": [
    "bound_rate = 0.1\n",
    "conf_ = []\n",
    "\n",
    "for _ in range(9):\n",
    "    y_pred = calculation(round(bound_rate,1))\n",
    "    temp_conf = confusion_matrix(y_test,y_pred)\n",
    "    tp = temp_conf[0][0]\n",
    "    fp = temp_conf[1][0]\n",
    "    fn = temp_conf[0][1]\n",
    "    tn = temp_conf[1][1]\n",
    "    conf_.append({\n",
    "        'bound_rate' : bound_rate,\n",
    "        'conf_' : temp_conf,\n",
    "        'accuracy' : (tp+tn)/(tp+tn+fn+fp),\n",
    "        'error_rate' : (fp+fn)/(tp+tn+fn+fp),\n",
    "        'sensitivity' : tp/(tp+fn),\n",
    "        'specificity' : tn/(tn+fp)\n",
    "    })\n",
    "    bound_rate+=0.1"
   ]
  },
  {
   "cell_type": "code",
   "execution_count": 24,
   "metadata": {},
   "outputs": [
    {
     "data": {
      "text/plain": [
       "{'bound_rate': 0.5,\n",
       " 'conf_': array([[1041,   28],\n",
       "        [ 261,   38]], dtype=int64),\n",
       " 'accuracy': 0.7887426900584795,\n",
       " 'error_rate': 0.21125730994152048,\n",
       " 'sensitivity': 0.9738072965388214,\n",
       " 'specificity': 0.12709030100334448}"
      ]
     },
     "execution_count": 24,
     "metadata": {},
     "output_type": "execute_result"
    }
   ],
   "source": [
    "min(conf_,key=lambda x : x['conf_'][0][1]+x['conf_'][1][0])"
   ]
  },
  {
   "cell_type": "code",
   "execution_count": 25,
   "metadata": {},
   "outputs": [
    {
     "data": {
      "text/plain": [
       "[{'bound_rate': 0.1,\n",
       "  'conf_': array([[447, 622],\n",
       "         [ 15, 284]], dtype=int64),\n",
       "  'accuracy': 0.5343567251461988,\n",
       "  'error_rate': 0.4656432748538012,\n",
       "  'sensitivity': 0.41814780168381666,\n",
       "  'specificity': 0.9498327759197325},\n",
       " {'bound_rate': 0.2,\n",
       "  'conf_': array([[734, 335],\n",
       "         [ 65, 234]], dtype=int64),\n",
       "  'accuracy': 0.7076023391812866,\n",
       "  'error_rate': 0.29239766081871343,\n",
       "  'sensitivity': 0.686623012160898,\n",
       "  'specificity': 0.782608695652174},\n",
       " {'bound_rate': 0.30000000000000004,\n",
       "  'conf_': array([[920, 149],\n",
       "         [141, 158]], dtype=int64),\n",
       "  'accuracy': 0.7880116959064327,\n",
       "  'error_rate': 0.21198830409356725,\n",
       "  'sensitivity': 0.8606173994387278,\n",
       "  'specificity': 0.5284280936454849},\n",
       " {'bound_rate': 0.4,\n",
       "  'conf_': array([[989,  80],\n",
       "         [210,  89]], dtype=int64),\n",
       "  'accuracy': 0.7880116959064327,\n",
       "  'error_rate': 0.21198830409356725,\n",
       "  'sensitivity': 0.9251637043966323,\n",
       "  'specificity': 0.2976588628762542},\n",
       " {'bound_rate': 0.5,\n",
       "  'conf_': array([[1041,   28],\n",
       "         [ 261,   38]], dtype=int64),\n",
       "  'accuracy': 0.7887426900584795,\n",
       "  'error_rate': 0.21125730994152048,\n",
       "  'sensitivity': 0.9738072965388214,\n",
       "  'specificity': 0.12709030100334448},\n",
       " {'bound_rate': 0.6,\n",
       "  'conf_': array([[1058,   11],\n",
       "         [ 288,   11]], dtype=int64),\n",
       "  'accuracy': 0.7814327485380117,\n",
       "  'error_rate': 0.2185672514619883,\n",
       "  'sensitivity': 0.9897100093545369,\n",
       "  'specificity': 0.03678929765886288},\n",
       " {'bound_rate': 0.7,\n",
       "  'conf_': array([[1064,    5],\n",
       "         [ 295,    4]], dtype=int64),\n",
       "  'accuracy': 0.7807017543859649,\n",
       "  'error_rate': 0.21929824561403508,\n",
       "  'sensitivity': 0.9953227315247896,\n",
       "  'specificity': 0.013377926421404682},\n",
       " {'bound_rate': 0.7999999999999999,\n",
       "  'conf_': array([[1068,    1],\n",
       "         [ 298,    1]], dtype=int64),\n",
       "  'accuracy': 0.7814327485380117,\n",
       "  'error_rate': 0.2185672514619883,\n",
       "  'sensitivity': 0.9990645463049579,\n",
       "  'specificity': 0.0033444816053511705},\n",
       " {'bound_rate': 0.8999999999999999,\n",
       "  'conf_': array([[1069,    0],\n",
       "         [ 299,    0]], dtype=int64),\n",
       "  'accuracy': 0.7814327485380117,\n",
       "  'error_rate': 0.2185672514619883,\n",
       "  'sensitivity': 1.0,\n",
       "  'specificity': 0.0}]"
      ]
     },
     "execution_count": 25,
     "metadata": {},
     "output_type": "execute_result"
    }
   ],
   "source": [
    "conf_"
   ]
  },
  {
   "cell_type": "markdown",
   "metadata": {},
   "source": [
    "### Answer (viii)"
   ]
  },
  {
   "cell_type": "code",
   "execution_count": 26,
   "metadata": {},
   "outputs": [
    {
     "data": {
      "text/plain": [
       "0.5504487987710829"
      ]
     },
     "execution_count": 26,
     "metadata": {},
     "output_type": "execute_result"
    }
   ],
   "source": [
    "y_pred = log_reg.predict(x_test)\n",
    "fpr, tpr, thresholds = metrics.roc_curve(y_test,y_pred)\n",
    "metrics.auc(fpr, tpr)"
   ]
  },
  {
   "cell_type": "markdown",
   "metadata": {},
   "source": [
    "### Answer (ix)"
   ]
  },
  {
   "cell_type": "code",
   "execution_count": 27,
   "metadata": {},
   "outputs": [],
   "source": [
    "log_model = LogisticRegression()\n",
    "cv_results = cross_val_score(log_model,x_std,y,cv=5,scoring=('roc_auc'))"
   ]
  },
  {
   "cell_type": "code",
   "execution_count": 28,
   "metadata": {},
   "outputs": [
    {
     "data": {
      "text/plain": [
       "array([0.75056883, 0.77176295, 0.77351725, 0.76548131, 0.78485932])"
      ]
     },
     "execution_count": 28,
     "metadata": {},
     "output_type": "execute_result"
    }
   ],
   "source": [
    "cv_results"
   ]
  }
 ],
 "metadata": {
  "kernelspec": {
   "display_name": "Python 3",
   "language": "python",
   "name": "python3"
  },
  "language_info": {
   "codemirror_mode": {
    "name": "ipython",
    "version": 3
   },
   "file_extension": ".py",
   "mimetype": "text/x-python",
   "name": "python",
   "nbconvert_exporter": "python",
   "pygments_lexer": "ipython3",
   "version": "3.8.3"
  }
 },
 "nbformat": 4,
 "nbformat_minor": 4
}
